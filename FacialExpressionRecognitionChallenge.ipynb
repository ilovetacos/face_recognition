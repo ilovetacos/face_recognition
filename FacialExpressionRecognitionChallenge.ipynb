{
 "cells": [
  {
   "cell_type": "markdown",
   "metadata": {},
   "source": [
    "# Klassifizierung von menschlichen Emotionen mit einem Convolutional Neural Network unter Anwendung von TensorFlow\n"
   ]
  },
  {
   "cell_type": "markdown",
   "metadata": {},
   "source": [
    "---\n",
    "SoSe 2019  |  Dozent: B. Voigt | H. Rosales Musick (544360), J. Höhn (565265)\n",
    "\n",
    "---"
   ]
  },
  {
   "cell_type": "markdown",
   "metadata": {},
   "source": [
    "Das Notebook ist für den FER2013-Datensatz gebaut. Diesen kann man [hier](https://www.kaggle.com/c/challenges-in-representation-learning-facial-expression-recognition-challenge) herunterladen.\n",
    "\n",
    "Es empfiehlt sich, das Notebook auf einem Leistungsstarken (GPU-)Server laufen zu lassen. Wie das gemacht werden kann, z. B. auf dem HTW-eigenen Server deepgreen03.f4.htw-berlin.de (um den Server zu nutzen muss man sich von Herrn [Kiewert](https://www.htw-berlin.de/hochschule/personen/person/?eid=2181) freischalten lassen), wir [hier](https://www.digitalocean.com/community/tutorials/how-to-install-run-connect-to-jupyter-notebook-on-remote-server) erklärt."
   ]
  },
  {
   "cell_type": "code",
   "execution_count": 1,
   "metadata": {},
   "outputs": [
    {
     "name": "stderr",
     "output_type": "stream",
     "text": [
      "Using TensorFlow backend.\n"
     ]
    }
   ],
   "source": [
    "# needed imports\n",
    "import keras\n",
    "import numpy as np\n",
    "import tensorflow as tf\n",
    "from keras import Sequential, optimizers\n",
    "from keras.layers import Dense, Flatten, BatchNormalization, Dropout, Conv2D, MaxPooling2D, Activation\n",
    "from keras.utils import to_categorical\n",
    "from keras.regularizers import l2\n",
    "from keras.preprocessing.image import ImageDataGenerator\n",
    "import matplotlib.pyplot as plt\n",
    "from IPython.display import clear_output"
   ]
  },
  {
   "cell_type": "markdown",
   "metadata": {},
   "source": [
    "---\n",
    "Diese Klasse zeichnet nach jeder Epoche einen Graphen mit den Werten train_loss, train_acc, val_loss und val_acc.\n",
    "\n",
    "[Quelle](https://medium.com/@kapilvarshney/how-to-plot-the-model-training-in-keras-using-custom-callback-function-and-using-tensorboard-41e4ce3cb401)"
   ]
  },
  {
   "cell_type": "code",
   "execution_count": 2,
   "metadata": {},
   "outputs": [],
   "source": [
    "class TrainingPlot(keras.callbacks.Callback):\n",
    "    \n",
    "    # This function is called when the training begins\n",
    "    def on_train_begin(self, logs={}):\n",
    "        # Initialize the lists for holding the logs, losses and accuracies\n",
    "        self.losses = []\n",
    "        self.acc = []\n",
    "        self.val_losses = []\n",
    "        self.val_acc = []\n",
    "        self.logs = []\n",
    "    \n",
    "    # This function is called at the end of each epoch\n",
    "    def on_epoch_end(self, epoch, logs={}):\n",
    "        \n",
    "        # Append the logs, losses and accuracies to the lists\n",
    "        self.logs.append(logs)\n",
    "        self.losses.append(logs.get('loss'))\n",
    "        self.acc.append(logs.get('acc'))\n",
    "        self.val_losses.append(logs.get('val_loss'))\n",
    "        self.val_acc.append(logs.get('val_acc'))\n",
    "        \n",
    "        # Before plotting ensure at least 2 epochs have passed\n",
    "        if len(self.losses) > 1:\n",
    "            \n",
    "            # Clear the previous plot\n",
    "            clear_output(wait=True)\n",
    "            N = np.arange(0, len(self.losses))\n",
    "            \n",
    "            # You can chose the style of your preference\n",
    "            # print(plt.style.available) to see the available options\n",
    "            plt.style.use(\"seaborn\")\n",
    "            \n",
    "            # Plot train loss, train acc, val loss and val acc against epochs passed\n",
    "            plt.figure()\n",
    "            plt.plot(N, self.losses, label = \"train_loss\")\n",
    "            plt.plot(N, self.acc, label = \"train_acc\")\n",
    "            plt.plot(N, self.val_losses, label = \"val_loss\")\n",
    "            plt.plot(N, self.val_acc, label = \"val_acc\")\n",
    "            plt.title(\"Training Loss and Accuracy [Epoch {}]\".format(epoch))\n",
    "            plt.xlabel(\"Epoch #\")\n",
    "            plt.ylabel(\"Loss/Accuracy\")\n",
    "            plt.legend()\n",
    "            plt.show()\n",
    "\n",
    "plot_losses = TrainingPlot()"
   ]
  },
  {
   "cell_type": "markdown",
   "metadata": {},
   "source": [
    "---\n",
    "Hier wird der Datensatz eingelesen und für das Training vorbereitet.\n",
    "\n",
    "[Quelle](https://github.com/serengil/tensorflow-101/blob/master/python/facial-expression-recognition.py)"
   ]
  },
  {
   "cell_type": "code",
   "execution_count": 3,
   "metadata": {},
   "outputs": [],
   "source": [
    "# gpu configuration\n",
    "config = tf.ConfigProto()\n",
    "config.gpu_options.allow_growth = True\n",
    "sess = tf.Session(config=config)\n",
    "keras.backend.set_session(sess)"
   ]
  },
  {
   "cell_type": "code",
   "execution_count": 4,
   "metadata": {},
   "outputs": [],
   "source": [
    "# variables\n",
    "num_classes = 7  # angry, disgust, fear, happy, sad, surprise, neutral\n",
    "batch_size = 128\n",
    "epochs = 300\n",
    "img_size = 48\n",
    "learning_rate = 0.001\n",
    "lr_decay = 0.0001"
   ]
  },
  {
   "cell_type": "code",
   "execution_count": 5,
   "metadata": {
    "scrolled": true
   },
   "outputs": [
    {
     "name": "stdout",
     "output_type": "stream",
     "text": [
      "number of instances:  35888\n",
      "instance length:  2304\n",
      "28709 train samples\n",
      "3589 test samples\n"
     ]
    }
   ],
   "source": [
    "with open(\"fer2013.csv\") as f:\n",
    "    content = f.readlines()\n",
    "\n",
    "lines = np.array(content)\n",
    "\n",
    "num_of_instances = lines.size\n",
    "print(\"number of instances: \", num_of_instances)\n",
    "print(\"instance length: \", len(lines[1].split(\",\")[1].split(\" \")))\n",
    "\n",
    "# initialize training set and test set\n",
    "x_train, y_train, x_test, y_test = [], [], [], []\n",
    "\n",
    "# transfer train and test set data\n",
    "for i in range(1, num_of_instances):\n",
    "    emotion, img, usage = lines[i].split(\",\")\n",
    "    val = img.split(\" \")\n",
    "    pixels = np.array(val, 'float32')\n",
    "    emotion = to_categorical(emotion, num_classes)\n",
    "    if 'Training' in usage:\n",
    "        y_train.append(emotion)\n",
    "        x_train.append(pixels)\n",
    "    elif 'PublicTest' in usage:\n",
    "        y_test.append(emotion)\n",
    "        x_test.append(pixels)\n",
    "\n",
    "# data transformation for train and test sets\n",
    "x_train = np.array(x_train, 'float32')\n",
    "y_train = np.array(y_train, 'float32')\n",
    "x_test = np.array(x_test, 'float32')\n",
    "y_test = np.array(y_test, 'float32')\n",
    "\n",
    "# normalize inputs between [0, 1]\n",
    "x_train /= 255\n",
    "x_test /= 255\n",
    "\n",
    "x_train = x_train.reshape(x_train.shape[0], img_size, img_size, 1)\n",
    "x_train = x_train.astype('float32')\n",
    "x_test = x_test.reshape(x_test.shape[0], img_size, img_size, 1)\n",
    "x_test = x_test.astype('float32')\n",
    "\n",
    "print(x_train.shape[0], 'train samples')\n",
    "print(x_test.shape[0], 'test samples')"
   ]
  },
  {
   "cell_type": "markdown",
   "metadata": {},
   "source": [
    "---\n",
    "Data Augmentation - Die Bilder werden waagerecht gespiegelt"
   ]
  },
  {
   "cell_type": "code",
   "execution_count": 6,
   "metadata": {},
   "outputs": [],
   "source": [
    "# Data Augmentation\n",
    "datagen = ImageDataGenerator(\n",
    "    horizontal_flip=True)"
   ]
  },
  {
   "cell_type": "markdown",
   "metadata": {},
   "source": [
    "---\n",
    "Modell"
   ]
  },
  {
   "cell_type": "code",
   "execution_count": 13,
   "metadata": {
    "scrolled": false
   },
   "outputs": [
    {
     "name": "stdout",
     "output_type": "stream",
     "text": [
      "_________________________________________________________________\n",
      "Layer (type)                 Output Shape              Param #   \n",
      "=================================================================\n",
      "First_Conv2D (Conv2D)        (None, 46, 46, 32)        320       \n",
      "_________________________________________________________________\n",
      "2nd_Conv2D (Conv2D)          (None, 44, 44, 32)        9248      \n",
      "_________________________________________________________________\n",
      "batch_normalization_1 (Batch (None, 44, 44, 32)        128       \n",
      "_________________________________________________________________\n",
      "1st_Pooling (MaxPooling2D)   (None, 22, 22, 32)        0         \n",
      "_________________________________________________________________\n",
      "3th_Conv2D (Conv2D)          (None, 20, 20, 64)        18496     \n",
      "_________________________________________________________________\n",
      "4th_Conv2D (Conv2D)          (None, 18, 18, 64)        36928     \n",
      "_________________________________________________________________\n",
      "batch_normalization_2 (Batch (None, 18, 18, 64)        256       \n",
      "_________________________________________________________________\n",
      "2nd_Pooling (MaxPooling2D)   (None, 9, 9, 64)          0         \n",
      "_________________________________________________________________\n",
      "flatten_3 (Flatten)          (None, 5184)              0         \n",
      "_________________________________________________________________\n",
      "features1 (Dense)            (None, 64)                331840    \n",
      "_________________________________________________________________\n",
      "batch_normalization_3 (Batch (None, 64)                256       \n",
      "_________________________________________________________________\n",
      "dropout_7 (Dropout)          (None, 64)                0         \n",
      "_________________________________________________________________\n",
      "dense_3 (Dense)              (None, 7)                 455       \n",
      "=================================================================\n",
      "Total params: 397,927\n",
      "Trainable params: 397,607\n",
      "Non-trainable params: 320\n",
      "_________________________________________________________________\n"
     ]
    }
   ],
   "source": [
    "model = Sequential()\n",
    "# first conv layer (32 = number of feature maps, 3 x 3  filter size, use the \"ReLU\" activation function)\n",
    "# input_shape: batch, width, height, dimensions\n",
    "\n",
    "\n",
    "model.add(Conv2D(32, kernel_size=(3, 3), activation='relu', input_shape=(img_size, img_size, 1), name='First_Conv2D'))\n",
    "#model.add(BatchNormalization())\n",
    "model.add(Conv2D(32, kernel_size=(3, 3), activation='relu', name='2nd_Conv2D'))\n",
    "model.add(BatchNormalization())\n",
    "# first pooling layer\n",
    "model.add(MaxPooling2D(pool_size=(2, 2), name='1st_Pooling'))\n",
    "#model.add(Dropout(0.5))\n",
    "#CCP\n",
    "model.add(Conv2D(64, kernel_size=(3, 3), activation='relu', name='3th_Conv2D'))\n",
    "#model.add(BatchNormalization())\n",
    "model.add(Conv2D(64, kernel_size=(3, 3), activation='relu', name='4th_Conv2D'))\n",
    "model.add(BatchNormalization())\n",
    "# 2th pool\n",
    "model.add(MaxPooling2D(pool_size=(2, 2), name='2nd_Pooling'))\n",
    "#model.add(Dropout(0.5))\n",
    "'''\n",
    "# CCP\n",
    "model.add(Conv2D(128, kernel_size=(3, 3), activation='relu', name='5th_Conv2D'))\n",
    "model.add(BatchNormalization())\n",
    "model.add(Conv2D(128, kernel_size=(3, 3), activation='relu', name='6th_Conv2D'))\n",
    "model.add(BatchNormalization())\n",
    "# 3th pool\n",
    "model.add(MaxPooling2D(pool_size=(2, 2), name='3nd_Pooling'))\n",
    "model.add(Dropout(0.5))\n",
    "# CCP\n",
    "model.add(Conv2D(256, kernel_size=(3, 3), activation='relu', padding='same', name='7th_Conv2D'))\n",
    "model.add(BatchNormalization())\n",
    "model.add(Conv2D(256, kernel_size=(3, 3), activation='relu', padding='same', name='8th_Conv2D'))\n",
    "model.add(BatchNormalization())\n",
    "# 4th pool\n",
    "model.add(MaxPooling2D(pool_size=(2, 2), name='4th_Pooling'))\n",
    "model.add(Dropout(0.5))\n",
    "'''\n",
    "# identification process\n",
    "# flattening the outputs\n",
    "model.add(Flatten())\n",
    "# Fully Connected Layer\n",
    "model.add(Dense(64, activation='relu', name='features1'))\n",
    "model.add(BatchNormalization())\n",
    "model.add(Dropout(0.5))\n",
    "#model.add(Dense(32, activation='relu', name='features2'))\n",
    "#model.add(BatchNormalization())\n",
    "#model.add(Dropout(0.5))\n",
    "# Classification\n",
    "model.add(Dense(num_classes, activation='softmax'))\n",
    "\n",
    "# show network architecture as formatted table\n",
    "model.summary()"
   ]
  },
  {
   "cell_type": "code",
   "execution_count": 14,
   "metadata": {},
   "outputs": [],
   "source": [
    "# model compilation; use the cross entropy loss function and the optimizer function SGD or Adam\n",
    "sgd = optimizers.SGD(lr=learning_rate, decay=lr_decay, momentum=0.9)\n",
    "adam = optimizers.Adam(lr=learning_rate, decay=lr_decay, beta_1=0.9, beta_2=0.999)\n",
    "model.compile(loss='categorical_crossentropy', optimizer=sgd, metrics=['accuracy'])"
   ]
  },
  {
   "cell_type": "code",
   "execution_count": null,
   "metadata": {
    "scrolled": true
   },
   "outputs": [
    {
     "data": {
      "image/png": "[encoded data removed]",
      "text/plain": [
       "<Figure size 576x396 with 1 Axes>"
      ]
     },
     "metadata": {},
     "output_type": "display_data"
    },
    {
     "name": "stdout",
     "output_type": "stream",
     "text": [
      "Epoch 80/300\n",
      " 52/224 [=====>........................] - ETA: 3s - loss: 0.7740 - acc: 0.7156"
     ]
    }
   ],
   "source": [
    "# training the model\n",
    "'''\n",
    "history = model.fit(x_train, y_train,\n",
    "                batch_size=batch_size,\n",
    "                epochs=epochs,\n",
    "                validation_data=(x_test, y_test),\n",
    "                callbacks=[plot_losses])\n",
    "'''\n",
    "history = model.fit_generator(datagen.flow(x_train, y_train, batch_size=batch_size),\n",
    "                              steps_per_epoch=len(x_train) / batch_size,\n",
    "                              epochs=epochs,\n",
    "                              validation_data=(x_test, y_test),\n",
    "                              callbacks=[plot_losses])\n",
    "                             "
   ]
  },
  {
   "cell_type": "markdown",
   "metadata": {},
   "source": [
    "---\n",
    "Visualisierung\n",
    "[Quelle](https://machinelearningmastery.com/display-deep-learning-model-training-history-in-keras/)"
   ]
  },
  {
   "cell_type": "code",
   "execution_count": null,
   "metadata": {
    "pycharm": {
     "is_executing": false
    }
   },
   "outputs": [],
   "source": [
    "# Visualization\n",
    "# list all data in history\n",
    "print(history.history.keys())\n",
    "# summarize history for accuracy\n",
    "plt.plot(history.history['acc'])\n",
    "plt.plot(history.history['val_acc'])\n",
    "plt.title('model accuracy')\n",
    "plt.ylabel('accuracy')\n",
    "plt.xlabel('epoch')\n",
    "plt.legend(['train', 'test'], loc='upper left')\n",
    "plt.show()\n",
    "# summarize history for loss\n",
    "plt.plot(history.history['loss'])\n",
    "plt.plot(history.history['val_loss'])\n",
    "plt.title('model loss')\n",
    "plt.ylabel('loss')\n",
    "plt.xlabel('epoch')\n",
    "plt.legend(['train', 'test'], loc='upper left')\n",
    "plt.show()"
   ]
  },
  {
   "cell_type": "markdown",
   "metadata": {},
   "source": [
    "---\n",
    "License Information: Please refer to READ.md"
   ]
  },
  {
   "cell_type": "code",
   "execution_count": null,
   "metadata": {},
   "outputs": [],
   "source": []
  }
 ],
 "metadata": {
  "kernelspec": {
   "display_name": "Python 3",
   "language": "python",
   "name": "python3"
  },
  "language_info": {
   "codemirror_mode": {
    "name": "ipython",
    "version": 3
   },
   "file_extension": ".py",
   "mimetype": "text/x-python",
   "name": "python",
   "nbconvert_exporter": "python",
   "pygments_lexer": "ipython3",
   "version": "3.5.2"
  },
  "pycharm": {
   "stem_cell": {
    "cell_type": "raw",
    "metadata": {
     "collapsed": false
    },
    "source": []
   }
  }
 },
 "nbformat": 4,
 "nbformat_minor": 2
}
